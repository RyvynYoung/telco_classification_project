{
 "cells": [
  {
   "cell_type": "markdown",
   "metadata": {},
   "source": [
    "# Telco Churn Project\n",
    "\n",
    "Ryvyn Young   \n",
    "Codeup Data Science Team   \n",
    "9/23/2020"
   ]
  },
  {
   "cell_type": "code",
   "execution_count": 3,
   "metadata": {},
   "outputs": [],
   "source": [
    "# import libraries and functions\n",
    "import pandas as pd\n",
    "import numpy as np\n",
    "import matplotlib.pyplot as plt\n",
    "import seaborn as sns\n",
    "\n",
    "from sklearn.model_selection import train_test_split\n",
    "from sklearn.linear_model import LogisticRegression\n",
    "from sklearn.tree import DecisionTreeClassifier\n",
    "from sklearn.ensemble import RandomForestClassifier\n",
    "from sklearn.neighbors import KNeighborsClassifier\n",
    "from sklearn.metrics import classification_report\n",
    "from sklearn.metrics import confusion_matrix\n",
    "\n",
    "from acquire import get_telco_data\n",
    "#from prepare import prep_telco_data"
   ]
  },
  {
   "cell_type": "code",
   "execution_count": 4,
   "metadata": {},
   "outputs": [
    {
     "data": {
      "text/plain": [
       "(7043, 24)"
      ]
     },
     "execution_count": 4,
     "metadata": {},
     "output_type": "execute_result"
    }
   ],
   "source": [
    "# run function to get data using acquire.py and verify data shape\n",
    "telco = get_telco_data()\n",
    "telco.shape"
   ]
  },
  {
   "cell_type": "markdown",
   "metadata": {},
   "source": [
    "summarize data (.info(), .describe(), .value_counts(), ...)"
   ]
  },
  {
   "cell_type": "code",
   "execution_count": 10,
   "metadata": {},
   "outputs": [
    {
     "name": "stdout",
     "output_type": "stream",
     "text": [
      "<class 'pandas.core.frame.DataFrame'>\n",
      "Int64Index: 7043 entries, 0 to 7042\n",
      "Data columns (total 24 columns):\n",
      " #   Column                    Non-Null Count  Dtype  \n",
      "---  ------                    --------------  -----  \n",
      " 0   payment_type_id           7043 non-null   int64  \n",
      " 1   internet_service_type_id  7043 non-null   int64  \n",
      " 2   contract_type_id          7043 non-null   int64  \n",
      " 3   customer_id               7043 non-null   object \n",
      " 4   gender                    7043 non-null   object \n",
      " 5   senior_citizen            7043 non-null   int64  \n",
      " 6   partner                   7043 non-null   object \n",
      " 7   dependents                7043 non-null   object \n",
      " 8   tenure                    7043 non-null   int64  \n",
      " 9   phone_service             7043 non-null   object \n",
      " 10  multiple_lines            7043 non-null   object \n",
      " 11  online_security           7043 non-null   object \n",
      " 12  online_backup             7043 non-null   object \n",
      " 13  device_protection         7043 non-null   object \n",
      " 14  tech_support              7043 non-null   object \n",
      " 15  streaming_tv              7043 non-null   object \n",
      " 16  streaming_movies          7043 non-null   object \n",
      " 17  paperless_billing         7043 non-null   object \n",
      " 18  monthly_charges           7043 non-null   float64\n",
      " 19  total_charges             7043 non-null   object \n",
      " 20  churn                     7043 non-null   object \n",
      " 21  contract_type             7043 non-null   object \n",
      " 22  internet_service_type     7043 non-null   object \n",
      " 23  payment_type              7043 non-null   object \n",
      "dtypes: float64(1), int64(5), object(18)\n",
      "memory usage: 1.3+ MB\n",
      "None\n",
      "                           count       mean        std    min   25%    50%  \\\n",
      "payment_type_id           7043.0   2.315633   1.148907   1.00   1.0   2.00   \n",
      "internet_service_type_id  7043.0   1.872923   0.737796   1.00   1.0   2.00   \n",
      "contract_type_id          7043.0   1.690473   0.833755   1.00   1.0   1.00   \n",
      "senior_citizen            7043.0   0.162147   0.368612   0.00   0.0   0.00   \n",
      "tenure                    7043.0  32.371149  24.559481   0.00   9.0  29.00   \n",
      "monthly_charges           7043.0  64.761692  30.090047  18.25  35.5  70.35   \n",
      "\n",
      "                            75%     max  \n",
      "payment_type_id            3.00    4.00  \n",
      "internet_service_type_id   2.00    3.00  \n",
      "contract_type_id           2.00    3.00  \n",
      "senior_citizen             0.00    1.00  \n",
      "tenure                    55.00   72.00  \n",
      "monthly_charges           89.85  118.75   \n",
      "\n",
      "payment_type_id                4\n",
      "internet_service_type_id       3\n",
      "contract_type_id               3\n",
      "customer_id                 7043\n",
      "gender                         2\n",
      "senior_citizen                 2\n",
      "partner                        2\n",
      "dependents                     2\n",
      "tenure                        73\n",
      "phone_service                  2\n",
      "multiple_lines                 3\n",
      "online_security                3\n",
      "online_backup                  3\n",
      "device_protection              3\n",
      "tech_support                   3\n",
      "streaming_tv                   3\n",
      "streaming_movies               3\n",
      "paperless_billing              2\n",
      "monthly_charges             1585\n",
      "total_charges               6531\n",
      "churn                          2\n",
      "contract_type                  3\n",
      "internet_service_type          3\n",
      "payment_type                   4\n",
      "dtype: int64\n"
     ]
    }
   ],
   "source": [
    "# Summarize Data\n",
    "print(telco.info())\n",
    "print(telco.describe().T, \"\\n\")\n",
    "print(telco.nunique())"
   ]
  },
  {
   "cell_type": "markdown",
   "metadata": {},
   "source": [
    "plot distributions of individual variables"
   ]
  },
  {
   "cell_type": "code",
   "execution_count": 18,
   "metadata": {},
   "outputs": [
    {
     "data": {
      "image/png": "[encoded data removed]",
      "text/plain": [
       "<Figure size 1152x432 with 3 Axes>"
      ]
     },
     "metadata": {
      "needs_background": "light"
     },
     "output_type": "display_data"
    }
   ],
   "source": [
    "plt.figure(figsize=(16, 6))\n",
    "plt.suptitle(f'Continuous features')\n",
    "\n",
    "plt.subplot(131)\n",
    "plt.hist(telco.tenure)\n",
    "plt.title('Tenure')\n",
    "\n",
    "plt.subplot(132)\n",
    "plt.hist(telco.monthly_charges)\n",
    "plt.title('Monthly Charges')\n",
    "\n",
    "plt.subplot(133)\n",
    "plt.hist(telco.total_charges)\n",
    "plt.title('Total Charges')\n",
    "\n",
    "\n",
    "plt.show()"
   ]
  },
  {
   "cell_type": "code",
   "execution_count": null,
   "metadata": {},
   "outputs": [],
   "source": []
  },
  {
   "cell_type": "code",
   "execution_count": null,
   "metadata": {},
   "outputs": [],
   "source": []
  },
  {
   "cell_type": "code",
   "execution_count": null,
   "metadata": {},
   "outputs": [],
   "source": []
  },
  {
   "cell_type": "code",
   "execution_count": null,
   "metadata": {},
   "outputs": [],
   "source": []
  },
  {
   "cell_type": "code",
   "execution_count": null,
   "metadata": {},
   "outputs": [],
   "source": [
    "# run function to prepare data using prepare.py and verify train, validate, and test shape\n",
    "#train, validate, test = prep_telco_data(telco)\n",
    "#print(train.shape, validate.shape, test.shape)"
   ]
  },
  {
   "cell_type": "code",
   "execution_count": 1,
   "metadata": {},
   "outputs": [],
   "source": []
  },
  {
   "cell_type": "code",
   "execution_count": null,
   "metadata": {},
   "outputs": [],
   "source": []
  }
 ],
 "metadata": {
  "kernelspec": {
   "display_name": "Python 3",
   "language": "python",
   "name": "python3"
  },
  "language_info": {
   "codemirror_mode": {
    "name": "ipython",
    "version": 3
   },
   "file_extension": ".py",
   "mimetype": "text/x-python",
   "name": "python",
   "nbconvert_exporter": "python",
   "pygments_lexer": "ipython3",
   "version": "3.7.6"
  }
 },
 "nbformat": 4,
 "nbformat_minor": 4
}
