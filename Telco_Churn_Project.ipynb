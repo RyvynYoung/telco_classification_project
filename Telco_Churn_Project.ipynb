{
 "cells": [
  {
   "cell_type": "markdown",
   "metadata": {},
   "source": [
    "# Telco Churn Project\n",
    "\n",
    "Ryvyn Young   \n",
    "Codeup Data Science Team   \n",
    "9/23/2020"
   ]
  },
  {
   "cell_type": "markdown",
   "metadata": {},
   "source": [
    "# Planning\n",
    "## Project Description: Why are our customers churning?\n",
    "\n",
    "#### GOALS:\n",
    "Find drivers for customer churn.\n",
    "Construct a ML classification model that accurately predicts customer churn.\n",
    "Create modules that make your process repeateable.\n",
    "Document your process well enough to be presented or read like a report.\n",
    "\n",
    "##### Audience:   \n",
    "Codeup Data Science Team\n",
    "\n",
    "##### Setting:   \n",
    "Virtual 5 minute walk through of Documented Jupyter Notebook\n",
    "\n",
    "##### Brainstorm:  \n",
    "key highlights, key visualizations, prototype\n",
    "\n",
    "#### MVP Questions to answer\n",
    "Are there clear groupings where a customer is more likely to churn?\n",
    "Are there features that indicate a higher propensity to churn?\n",
    "Is there a price threshold for specific services where the likelihood of churn increases once price for those services goes past that point?"
   ]
  },
  {
   "cell_type": "markdown",
   "metadata": {},
   "source": [
    "# Acquire"
   ]
  },
  {
   "cell_type": "code",
   "execution_count": 1,
   "metadata": {},
   "outputs": [],
   "source": [
    "# import libraries and functions\n",
    "import pandas as pd\n",
    "import numpy as np\n",
    "import matplotlib.pyplot as plt\n",
    "import seaborn as sns\n",
    "\n",
    "from sklearn.model_selection import train_test_split\n",
    "from sklearn.linear_model import LogisticRegression\n",
    "from sklearn.tree import DecisionTreeClassifier\n",
    "from sklearn.ensemble import RandomForestClassifier\n",
    "from sklearn.neighbors import KNeighborsClassifier\n",
    "from sklearn.metrics import classification_report\n",
    "from sklearn.metrics import confusion_matrix\n",
    "\n",
    "from acquire import get_telco_data\n",
    "from prepare import prep_telco"
   ]
  },
  {
   "cell_type": "code",
   "execution_count": 2,
   "metadata": {},
   "outputs": [
    {
     "data": {
      "text/plain": [
       "(7043, 24)"
      ]
     },
     "execution_count": 2,
     "metadata": {},
     "output_type": "execute_result"
    }
   ],
   "source": [
    "# run function to get data using acquire.py and verify data shape\n",
    "telco = get_telco_data()\n",
    "telco.shape"
   ]
  },
  {
   "cell_type": "markdown",
   "metadata": {},
   "source": [
    "summarize data (.info(), .describe(), .value_counts(), ...)"
   ]
  },
  {
   "cell_type": "code",
   "execution_count": 3,
   "metadata": {},
   "outputs": [
    {
     "name": "stdout",
     "output_type": "stream",
     "text": [
      "<class 'pandas.core.frame.DataFrame'>\n",
      "Int64Index: 7043 entries, 0 to 7042\n",
      "Data columns (total 24 columns):\n",
      " #   Column                    Non-Null Count  Dtype  \n",
      "---  ------                    --------------  -----  \n",
      " 0   payment_type_id           7043 non-null   int64  \n",
      " 1   internet_service_type_id  7043 non-null   int64  \n",
      " 2   contract_type_id          7043 non-null   int64  \n",
      " 3   customer_id               7043 non-null   object \n",
      " 4   gender                    7043 non-null   object \n",
      " 5   senior_citizen            7043 non-null   int64  \n",
      " 6   partner                   7043 non-null   object \n",
      " 7   dependents                7043 non-null   object \n",
      " 8   tenure                    7043 non-null   int64  \n",
      " 9   phone_service             7043 non-null   object \n",
      " 10  multiple_lines            7043 non-null   object \n",
      " 11  online_security           7043 non-null   object \n",
      " 12  online_backup             7043 non-null   object \n",
      " 13  device_protection         7043 non-null   object \n",
      " 14  tech_support              7043 non-null   object \n",
      " 15  streaming_tv              7043 non-null   object \n",
      " 16  streaming_movies          7043 non-null   object \n",
      " 17  paperless_billing         7043 non-null   object \n",
      " 18  monthly_charges           7043 non-null   float64\n",
      " 19  total_charges             7043 non-null   object \n",
      " 20  churn                     7043 non-null   object \n",
      " 21  contract_type             7043 non-null   object \n",
      " 22  internet_service_type     7043 non-null   object \n",
      " 23  payment_type              7043 non-null   object \n",
      "dtypes: float64(1), int64(5), object(18)\n",
      "memory usage: 1.3+ MB\n",
      "None\n",
      "                           count       mean        std    min   25%    50%  \\\n",
      "payment_type_id           7043.0   2.315633   1.148907   1.00   1.0   2.00   \n",
      "internet_service_type_id  7043.0   1.872923   0.737796   1.00   1.0   2.00   \n",
      "contract_type_id          7043.0   1.690473   0.833755   1.00   1.0   1.00   \n",
      "senior_citizen            7043.0   0.162147   0.368612   0.00   0.0   0.00   \n",
      "tenure                    7043.0  32.371149  24.559481   0.00   9.0  29.00   \n",
      "monthly_charges           7043.0  64.761692  30.090047  18.25  35.5  70.35   \n",
      "\n",
      "                            75%     max  \n",
      "payment_type_id            3.00    4.00  \n",
      "internet_service_type_id   2.00    3.00  \n",
      "contract_type_id           2.00    3.00  \n",
      "senior_citizen             0.00    1.00  \n",
      "tenure                    55.00   72.00  \n",
      "monthly_charges           89.85  118.75   \n",
      "\n",
      "payment_type_id                4\n",
      "internet_service_type_id       3\n",
      "contract_type_id               3\n",
      "customer_id                 7043\n",
      "gender                         2\n",
      "senior_citizen                 2\n",
      "partner                        2\n",
      "dependents                     2\n",
      "tenure                        73\n",
      "phone_service                  2\n",
      "multiple_lines                 3\n",
      "online_security                3\n",
      "online_backup                  3\n",
      "device_protection              3\n",
      "tech_support                   3\n",
      "streaming_tv                   3\n",
      "streaming_movies               3\n",
      "paperless_billing              2\n",
      "monthly_charges             1585\n",
      "total_charges               6531\n",
      "churn                          2\n",
      "contract_type                  3\n",
      "internet_service_type          3\n",
      "payment_type                   4\n",
      "dtype: int64\n"
     ]
    }
   ],
   "source": [
    "# Summarize Data\n",
    "print(telco.info())\n",
    "print(telco.describe().T, \"\\n\")\n",
    "print(telco.nunique())"
   ]
  },
  {
   "cell_type": "markdown",
   "metadata": {},
   "source": [
    "NOTES:   \n",
    "total charges needs to be a float   \n",
    "gender, partner, and dependents are objects, will need to get dummies\n",
    "get dummies for \"extra_services\" as well: multiple_lines, online_security, online_backup, device_protection,\n",
    "tech_support, streaming_tv, streaming_movies, paperless_billing    \n",
    "last 3 columns are same as first 3 but with text description instead of numeric, drop   \n",
    "check for null values and duplicates   \n",
    "additional required column for tenure in years must be added   \n",
    "additional column for sum of \"extra services\" is needed"
   ]
  },
  {
   "cell_type": "markdown",
   "metadata": {},
   "source": [
    "NOTE:   \n",
    "no null values found   \n",
    "no duplicates found, but keeping drop duplicates line in prep file for future use   "
   ]
  },
  {
   "cell_type": "code",
   "execution_count": 4,
   "metadata": {},
   "outputs": [],
   "source": [
    "# these 2 changes must be made in order for visualizations to work\n",
    "# so ther are made here and not in prep file\n",
    "\n",
    "# convert total charges to float type\n",
    "# using .astype did not work, so found this method which will fill cells with errors with a null value\n",
    "telco['total_charges'] = pd.to_numeric(telco['total_charges'], errors='coerce')\n",
    "\n",
    "# 11 values in total charges are now null, dropping these rows will have minimal impact\n",
    "# so drop rows with null values\n",
    "telco = telco.dropna(axis=0)"
   ]
  },
  {
   "cell_type": "markdown",
   "metadata": {},
   "source": [
    "plot distributions of individual variables"
   ]
  },
  {
   "cell_type": "code",
   "execution_count": 5,
   "metadata": {},
   "outputs": [
    {
     "data": {
      "image/png": "[encoded data removed]",
      "text/plain": [
       "<Figure size 1152x432 with 3 Axes>"
      ]
     },
     "metadata": {
      "needs_background": "light"
     },
     "output_type": "display_data"
    }
   ],
   "source": [
    "# use seaborn boxplot to visualize distribution of continuous features\n",
    "plt.figure(figsize=(16, 6))\n",
    "plt.suptitle(f'Continuous features')\n",
    "\n",
    "plt.subplot(131)\n",
    "sns.boxplot(telco.tenure)\n",
    "plt.title('Tenure')\n",
    "\n",
    "plt.subplot(132)\n",
    "sns.boxplot(telco.monthly_charges)\n",
    "plt.title('Monthly Charges')\n",
    "\n",
    "plt.subplot(133)\n",
    "sns.boxplot(telco.total_charges)\n",
    "plt.title('Total Charges')\n",
    "\n",
    "plt.show()"
   ]
  },
  {
   "cell_type": "code",
   "execution_count": 6,
   "metadata": {},
   "outputs": [
    {
     "data": {
      "image/png": "[encoded data removed]",
      "text/plain": [
       "<Figure size 1152x432 with 3 Axes>"
      ]
     },
     "metadata": {
      "needs_background": "light"
     },
     "output_type": "display_data"
    }
   ],
   "source": [
    "# use Seaborn count plot to visualize distribution of categorical features\n",
    "plt.figure(figsize=(16, 6))\n",
    "plt.suptitle(f'Categorical features')\n",
    "\n",
    "plt.subplot(131)\n",
    "sns.countplot(telco.payment_type)\n",
    "plt.xticks(rotation=45)\n",
    "\n",
    "plt.subplot(132)\n",
    "sns.countplot(telco.contract_type)\n",
    "plt.xticks(rotation=45)\n",
    "\n",
    "plt.subplot(133)\n",
    "sns.countplot(telco.internet_service_type)\n",
    "plt.xticks(rotation=45)\n",
    "\n",
    "plt.show()"
   ]
  },
  {
   "cell_type": "code",
   "execution_count": 7,
   "metadata": {},
   "outputs": [
    {
     "data": {
      "image/png": "[encoded data removed]",
      "text/plain": [
       "<Figure size 1152x432 with 4 Axes>"
      ]
     },
     "metadata": {
      "needs_background": "light"
     },
     "output_type": "display_data"
    }
   ],
   "source": [
    "# use Seaborn count plot to visualize distribution of categorical features continued\n",
    "plt.figure(figsize=(16, 6))\n",
    "\n",
    "plt.subplot(221)\n",
    "sns.countplot(telco.gender)\n",
    "\n",
    "plt.subplot(222)\n",
    "sns.countplot(telco.senior_citizen)\n",
    "\n",
    "plt.subplot(223)\n",
    "sns.countplot(telco.partner)\n",
    "\n",
    "plt.subplot(224)\n",
    "sns.countplot(telco.dependents)\n",
    "\n",
    "plt.tight_layout()\n",
    "plt.show()"
   ]
  },
  {
   "cell_type": "code",
   "execution_count": 8,
   "metadata": {},
   "outputs": [
    {
     "data": {
      "image/png": "[encoded data removed]",
      "text/plain": [
       "<Figure size 1152x432 with 9 Axes>"
      ]
     },
     "metadata": {
      "needs_background": "light"
     },
     "output_type": "display_data"
    }
   ],
   "source": [
    "# use Seaborn count plot to visualize distribution of categorical features continued\n",
    "plt.figure(figsize=(16, 6))\n",
    "\n",
    "plt.subplot(331)\n",
    "sns.countplot(telco.phone_service)\n",
    "\n",
    "plt.subplot(332)\n",
    "sns.countplot(telco.multiple_lines)\n",
    "\n",
    "plt.subplot(333)\n",
    "sns.countplot(telco.paperless_billing)\n",
    "\n",
    "plt.subplot(334)\n",
    "sns.countplot(telco.online_security)\n",
    "\n",
    "plt.subplot(335)\n",
    "sns.countplot(telco.online_backup)\n",
    "\n",
    "plt.subplot(336)\n",
    "sns.countplot(telco.device_protection)\n",
    "\n",
    "plt.subplot(337)\n",
    "sns.countplot(telco.streaming_tv)\n",
    "\n",
    "plt.subplot(338)\n",
    "sns.countplot(telco.streaming_movies)\n",
    "\n",
    "plt.subplot(339)\n",
    "sns.countplot(telco.tech_support)\n",
    "\n",
    "plt.tight_layout()\n",
    "plt.show()"
   ]
  },
  {
   "cell_type": "code",
   "execution_count": 9,
   "metadata": {},
   "outputs": [
    {
     "data": {
      "image/png": "[encoded data removed]",
      "text/plain": [
       "<Figure size 432x288 with 1 Axes>"
      ]
     },
     "metadata": {
      "needs_background": "light"
     },
     "output_type": "display_data"
    }
   ],
   "source": [
    "# distribution of target variable, churn, using seaborn\n",
    "sns.countplot(telco.churn)\n",
    "plt.show()"
   ]
  },
  {
   "cell_type": "markdown",
   "metadata": {},
   "source": [
    "# Prepare"
   ]
  },
  {
   "cell_type": "code",
   "execution_count": 11,
   "metadata": {},
   "outputs": [
    {
     "name": "stdout",
     "output_type": "stream",
     "text": [
      "(3937, 22) (1688, 22) (1407, 22)\n"
     ]
    }
   ],
   "source": [
    "# prep file not working, need to debug -- had to add drop customer_id won't model\n",
    "# run function to prepare data using prepare.py and verify train, validate, and test shape\n",
    "train, validate, test = prep_telco(telco)\n",
    "print(train.shape, validate.shape, test.shape)"
   ]
  },
  {
   "cell_type": "markdown",
   "metadata": {},
   "source": [
    "#### Now that dummies are in place here is reminder of what values mean   \n",
    "\n",
    "For yes/no: 0=NO, 1=YES   "
   ]
  },
  {
   "cell_type": "markdown",
   "metadata": {},
   "source": [
    "Payment Types   \n",
    "1\tElectronic check   \n",
    "2\tMailed check   \n",
    "3\tBank transfer (automatic)   \n",
    "4\tCredit card (automatic)"
   ]
  },
  {
   "cell_type": "markdown",
   "metadata": {},
   "source": [
    "Contract Types   \n",
    "1\tMonth-to-month   \n",
    "2\tOne year   \n",
    "3\tTwo year   "
   ]
  },
  {
   "cell_type": "markdown",
   "metadata": {},
   "source": [
    "Internet Service Types   \n",
    "1\tDSL   \n",
    "2\tFiber optic   \n",
    "3\tNone   "
   ]
  },
  {
   "cell_type": "code",
   "execution_count": 35,
   "metadata": {},
   "outputs": [
    {
     "data": {
      "text/plain": [
       "Index(['payment_type_id', 'internet_service_type_id', 'contract_type_id',\n",
       "       'senior_citizen', 'months_tenure', 'monthly_charges', 'total_charges',\n",
       "       'years_tenure', 'churn', 'mult_lines', 'online_sec', 'online_backup',\n",
       "       'device_protect', 'paperless', 'stream_movies', 'stream_tv', 'tech',\n",
       "       'phone', 'dependents', 'partner', 'Male', 'extra_serv'],\n",
       "      dtype='object')"
      ]
     },
     "execution_count": 35,
     "metadata": {},
     "output_type": "execute_result"
    }
   ],
   "source": [
    "train.columns"
   ]
  },
  {
   "cell_type": "markdown",
   "metadata": {},
   "source": [
    "# Explore"
   ]
  },
  {
   "cell_type": "code",
   "execution_count": 40,
   "metadata": {},
   "outputs": [
    {
     "data": {
      "image/png": "[encoded data removed]",
      "text/plain": [
       "<Figure size 1152x432 with 3 Axes>"
      ]
     },
     "metadata": {
      "needs_background": "light"
     },
     "output_type": "display_data"
    }
   ],
   "source": [
    "# repeat visualizations from above on only train dataset with churn as factor\n",
    "# use Seaborn count plot to visualize distribution of categorical features\n",
    "plt.figure(figsize=(16, 6))\n",
    "plt.suptitle(f'Categorical features')\n",
    "\n",
    "plt.subplot(131)\n",
    "sns.countplot(x=train.payment_type_id, hue=train.churn)\n",
    "\n",
    "plt.subplot(132)\n",
    "sns.countplot(x=train.contract_type_id, hue=train.churn)\n",
    "\n",
    "plt.subplot(133)\n",
    "sns.countplot(x=train.internet_service_type_id, hue=train.churn)\n",
    "\n",
    "plt.show()"
   ]
  },
  {
   "cell_type": "code",
   "execution_count": 41,
   "metadata": {},
   "outputs": [
    {
     "data": {
      "image/png": "[encoded data removed]",
      "text/plain": [
       "<Figure size 1152x432 with 4 Axes>"
      ]
     },
     "metadata": {
      "needs_background": "light"
     },
     "output_type": "display_data"
    }
   ],
   "source": [
    "# repeat visualizations from above on only train dataset with churn as factor\n",
    "# use Seaborn count plot to visualize distribution of categorical features continued\n",
    "plt.figure(figsize=(16, 6))\n",
    "\n",
    "plt.subplot(221)\n",
    "sns.countplot(x=train.Male, hue=train.churn)\n",
    "\n",
    "plt.subplot(222)\n",
    "sns.countplot(x=train.senior_citizen, hue=train.churn)\n",
    "\n",
    "plt.subplot(223)\n",
    "sns.countplot(x=train.partner, hue=train.churn)\n",
    "\n",
    "plt.subplot(224)\n",
    "sns.countplot(x=train.dependents, hue=train.churn)\n",
    "\n",
    "plt.tight_layout()\n",
    "plt.show()"
   ]
  },
  {
   "cell_type": "code",
   "execution_count": 42,
   "metadata": {},
   "outputs": [
    {
     "data": {
      "image/png": "[encoded data removed]",
      "text/plain": [
       "<Figure size 1152x432 with 9 Axes>"
      ]
     },
     "metadata": {
      "needs_background": "light"
     },
     "output_type": "display_data"
    }
   ],
   "source": [
    "# repeat visualizations from above on only train dataset with churn as factor\n",
    "# use Seaborn count plot to visualize distribution of categorical features continued\n",
    "plt.figure(figsize=(16, 6))\n",
    "\n",
    "plt.subplot(331)\n",
    "sns.countplot(train.phone, hue=train.churn)\n",
    "\n",
    "plt.subplot(332)\n",
    "sns.countplot(train.mult_lines, hue=train.churn)\n",
    "\n",
    "plt.subplot(333)\n",
    "sns.countplot(train.paperless, hue=train.churn)\n",
    "\n",
    "plt.subplot(334)\n",
    "sns.countplot(train.online_sec, hue=train.churn)\n",
    "\n",
    "plt.subplot(335)\n",
    "sns.countplot(train.online_backup, hue=train.churn)\n",
    "\n",
    "plt.subplot(336)\n",
    "sns.countplot(train.device_protect, hue=train.churn)\n",
    "\n",
    "plt.subplot(337)\n",
    "sns.countplot(train.stream_tv, hue=train.churn)\n",
    "\n",
    "plt.subplot(338)\n",
    "sns.countplot(train.stream_movies, hue=train.churn)\n",
    "\n",
    "plt.subplot(339)\n",
    "sns.countplot(train.tech, hue=train.churn)\n",
    "\n",
    "plt.tight_layout()\n",
    "plt.show()"
   ]
  },
  {
   "cell_type": "code",
   "execution_count": 37,
   "metadata": {},
   "outputs": [
    {
     "data": {
      "image/png": "[encoded data removed]",
      "text/plain": [
       "<Figure size 432x288 with 1 Axes>"
      ]
     },
     "metadata": {
      "needs_background": "light"
     },
     "output_type": "display_data"
    }
   ],
   "source": [
    "# distribution of target variable, churn, using seaborn on train data\n",
    "sns.countplot(train.churn)\n",
    "plt.show()"
   ]
  },
  {
   "cell_type": "markdown",
   "metadata": {},
   "source": [
    "only noticable high churn areas that seem odd and may indicate further investigation are:   \n",
    "electronic payment, m2m, fiber optic\n",
    "\n",
    "notable low churn = those with dependents have very low churn"
   ]
  },
  {
   "cell_type": "code",
   "execution_count": null,
   "metadata": {},
   "outputs": [],
   "source": []
  },
  {
   "cell_type": "code",
   "execution_count": null,
   "metadata": {},
   "outputs": [],
   "source": []
  },
  {
   "cell_type": "code",
   "execution_count": null,
   "metadata": {},
   "outputs": [],
   "source": []
  },
  {
   "cell_type": "code",
   "execution_count": null,
   "metadata": {},
   "outputs": [],
   "source": []
  },
  {
   "cell_type": "code",
   "execution_count": null,
   "metadata": {},
   "outputs": [],
   "source": []
  },
  {
   "cell_type": "code",
   "execution_count": null,
   "metadata": {},
   "outputs": [],
   "source": []
  },
  {
   "cell_type": "markdown",
   "metadata": {},
   "source": [
    "# Modeling Stage"
   ]
  },
  {
   "cell_type": "markdown",
   "metadata": {},
   "source": [
    "## Baseline"
   ]
  },
  {
   "cell_type": "code",
   "execution_count": 13,
   "metadata": {},
   "outputs": [
    {
     "data": {
      "text/plain": [
       "0    0.734315\n",
       "1    0.265685\n",
       "Name: churn, dtype: float64"
      ]
     },
     "execution_count": 13,
     "metadata": {},
     "output_type": "execute_result"
    }
   ],
   "source": [
    "# Find baseline to beat\n",
    "train.churn.value_counts(normalize=True)"
   ]
  },
  {
   "cell_type": "code",
   "execution_count": 14,
   "metadata": {},
   "outputs": [],
   "source": [
    "# Highest response is not chruned, if predicted not, would be correct 73% of the time"
   ]
  },
  {
   "cell_type": "markdown",
   "metadata": {},
   "source": [
    "## Train Model 1\n",
    "Decission Tree with all features, max depth of 10"
   ]
  },
  {
   "cell_type": "code",
   "execution_count": 19,
   "metadata": {},
   "outputs": [],
   "source": [
    "# Decission Tree\n",
    "clf = DecisionTreeClassifier(max_depth=10, random_state=123)"
   ]
  },
  {
   "cell_type": "code",
   "execution_count": 68,
   "metadata": {},
   "outputs": [
    {
     "data": {
      "text/html": [
       "<div>\n",
       "<style scoped>\n",
       "    .dataframe tbody tr th:only-of-type {\n",
       "        vertical-align: middle;\n",
       "    }\n",
       "\n",
       "    .dataframe tbody tr th {\n",
       "        vertical-align: top;\n",
       "    }\n",
       "\n",
       "    .dataframe thead th {\n",
       "        text-align: right;\n",
       "    }\n",
       "</style>\n",
       "<table border=\"1\" class=\"dataframe\">\n",
       "  <thead>\n",
       "    <tr style=\"text-align: right;\">\n",
       "      <th></th>\n",
       "      <th>payment_type_id</th>\n",
       "      <th>internet_service_type_id</th>\n",
       "      <th>contract_type_id</th>\n",
       "      <th>senior_citizen</th>\n",
       "      <th>months_tenure</th>\n",
       "      <th>monthly_charges</th>\n",
       "      <th>total_charges</th>\n",
       "      <th>years_tenure</th>\n",
       "      <th>mult_lines</th>\n",
       "      <th>online_sec</th>\n",
       "      <th>...</th>\n",
       "      <th>device_protect</th>\n",
       "      <th>paperless</th>\n",
       "      <th>stream_movies</th>\n",
       "      <th>stream_tv</th>\n",
       "      <th>tech</th>\n",
       "      <th>phone</th>\n",
       "      <th>dependents</th>\n",
       "      <th>partner</th>\n",
       "      <th>Male</th>\n",
       "      <th>extra_serv</th>\n",
       "    </tr>\n",
       "  </thead>\n",
       "  <tbody>\n",
       "    <tr>\n",
       "      <th>6191</th>\n",
       "      <td>2</td>\n",
       "      <td>3</td>\n",
       "      <td>2</td>\n",
       "      <td>0</td>\n",
       "      <td>3</td>\n",
       "      <td>20.25</td>\n",
       "      <td>71.20</td>\n",
       "      <td>0.250000</td>\n",
       "      <td>0</td>\n",
       "      <td>0</td>\n",
       "      <td>...</td>\n",
       "      <td>0</td>\n",
       "      <td>0</td>\n",
       "      <td>0</td>\n",
       "      <td>0</td>\n",
       "      <td>0</td>\n",
       "      <td>1</td>\n",
       "      <td>0</td>\n",
       "      <td>0</td>\n",
       "      <td>0</td>\n",
       "      <td>0</td>\n",
       "    </tr>\n",
       "    <tr>\n",
       "      <th>1850</th>\n",
       "      <td>4</td>\n",
       "      <td>1</td>\n",
       "      <td>3</td>\n",
       "      <td>0</td>\n",
       "      <td>66</td>\n",
       "      <td>89.90</td>\n",
       "      <td>5958.85</td>\n",
       "      <td>5.500000</td>\n",
       "      <td>1</td>\n",
       "      <td>1</td>\n",
       "      <td>...</td>\n",
       "      <td>1</td>\n",
       "      <td>0</td>\n",
       "      <td>1</td>\n",
       "      <td>1</td>\n",
       "      <td>1</td>\n",
       "      <td>1</td>\n",
       "      <td>1</td>\n",
       "      <td>1</td>\n",
       "      <td>0</td>\n",
       "      <td>7</td>\n",
       "    </tr>\n",
       "    <tr>\n",
       "      <th>5438</th>\n",
       "      <td>3</td>\n",
       "      <td>2</td>\n",
       "      <td>3</td>\n",
       "      <td>0</td>\n",
       "      <td>72</td>\n",
       "      <td>114.55</td>\n",
       "      <td>8306.05</td>\n",
       "      <td>6.000000</td>\n",
       "      <td>1</td>\n",
       "      <td>1</td>\n",
       "      <td>...</td>\n",
       "      <td>1</td>\n",
       "      <td>0</td>\n",
       "      <td>1</td>\n",
       "      <td>1</td>\n",
       "      <td>1</td>\n",
       "      <td>1</td>\n",
       "      <td>1</td>\n",
       "      <td>1</td>\n",
       "      <td>1</td>\n",
       "      <td>7</td>\n",
       "    </tr>\n",
       "    <tr>\n",
       "      <th>2171</th>\n",
       "      <td>2</td>\n",
       "      <td>1</td>\n",
       "      <td>3</td>\n",
       "      <td>0</td>\n",
       "      <td>71</td>\n",
       "      <td>71.10</td>\n",
       "      <td>5224.95</td>\n",
       "      <td>5.916667</td>\n",
       "      <td>1</td>\n",
       "      <td>1</td>\n",
       "      <td>...</td>\n",
       "      <td>1</td>\n",
       "      <td>0</td>\n",
       "      <td>0</td>\n",
       "      <td>0</td>\n",
       "      <td>1</td>\n",
       "      <td>1</td>\n",
       "      <td>1</td>\n",
       "      <td>1</td>\n",
       "      <td>0</td>\n",
       "      <td>5</td>\n",
       "    </tr>\n",
       "    <tr>\n",
       "      <th>6458</th>\n",
       "      <td>3</td>\n",
       "      <td>3</td>\n",
       "      <td>3</td>\n",
       "      <td>0</td>\n",
       "      <td>62</td>\n",
       "      <td>20.00</td>\n",
       "      <td>1250.10</td>\n",
       "      <td>5.166667</td>\n",
       "      <td>0</td>\n",
       "      <td>0</td>\n",
       "      <td>...</td>\n",
       "      <td>0</td>\n",
       "      <td>0</td>\n",
       "      <td>0</td>\n",
       "      <td>0</td>\n",
       "      <td>0</td>\n",
       "      <td>1</td>\n",
       "      <td>1</td>\n",
       "      <td>0</td>\n",
       "      <td>1</td>\n",
       "      <td>0</td>\n",
       "    </tr>\n",
       "  </tbody>\n",
       "</table>\n",
       "<p>5 rows × 21 columns</p>\n",
       "</div>"
      ],
      "text/plain": [
       "      payment_type_id  internet_service_type_id  contract_type_id  \\\n",
       "6191                2                         3                 2   \n",
       "1850                4                         1                 3   \n",
       "5438                3                         2                 3   \n",
       "2171                2                         1                 3   \n",
       "6458                3                         3                 3   \n",
       "\n",
       "      senior_citizen  months_tenure  monthly_charges  total_charges  \\\n",
       "6191               0              3            20.25          71.20   \n",
       "1850               0             66            89.90        5958.85   \n",
       "5438               0             72           114.55        8306.05   \n",
       "2171               0             71            71.10        5224.95   \n",
       "6458               0             62            20.00        1250.10   \n",
       "\n",
       "      years_tenure  mult_lines  online_sec  ...  device_protect  paperless  \\\n",
       "6191      0.250000           0           0  ...               0          0   \n",
       "1850      5.500000           1           1  ...               1          0   \n",
       "5438      6.000000           1           1  ...               1          0   \n",
       "2171      5.916667           1           1  ...               1          0   \n",
       "6458      5.166667           0           0  ...               0          0   \n",
       "\n",
       "      stream_movies  stream_tv  tech  phone  dependents  partner  Male  \\\n",
       "6191              0          0     0      1           0        0     0   \n",
       "1850              1          1     1      1           1        1     0   \n",
       "5438              1          1     1      1           1        1     1   \n",
       "2171              0          0     1      1           1        1     0   \n",
       "6458              0          0     0      1           1        0     1   \n",
       "\n",
       "      extra_serv  \n",
       "6191           0  \n",
       "1850           7  \n",
       "5438           7  \n",
       "2171           5  \n",
       "6458           0  \n",
       "\n",
       "[5 rows x 21 columns]"
      ]
     },
     "execution_count": 68,
     "metadata": {},
     "output_type": "execute_result"
    }
   ],
   "source": [
    "X_train = train.drop(['churn'],axis=1)\n",
    "y_train = train[['churn']]\n",
    "\n",
    "X_train.head()"
   ]
  },
  {
   "cell_type": "code",
   "execution_count": 21,
   "metadata": {},
   "outputs": [
    {
     "data": {
      "text/plain": [
       "DecisionTreeClassifier(ccp_alpha=0.0, class_weight=None, criterion='gini',\n",
       "                       max_depth=10, max_features=None, max_leaf_nodes=None,\n",
       "                       min_impurity_decrease=0.0, min_impurity_split=None,\n",
       "                       min_samples_leaf=1, min_samples_split=2,\n",
       "                       min_weight_fraction_leaf=0.0, presort='deprecated',\n",
       "                       random_state=123, splitter='best')"
      ]
     },
     "execution_count": 21,
     "metadata": {},
     "output_type": "execute_result"
    }
   ],
   "source": [
    "clf.fit(X_train, y_train)"
   ]
  },
  {
   "cell_type": "code",
   "execution_count": 22,
   "metadata": {},
   "outputs": [
    {
     "data": {
      "text/plain": [
       "0.8803657607315215"
      ]
     },
     "execution_count": 22,
     "metadata": {},
     "output_type": "execute_result"
    }
   ],
   "source": [
    "clf.score(X_train, y_train)"
   ]
  },
  {
   "cell_type": "markdown",
   "metadata": {},
   "source": [
    "## Train Model 2\n",
    "Random Forest with all features, min leaf of 5, max depth of 15, 100 estimators"
   ]
  },
  {
   "cell_type": "code",
   "execution_count": 46,
   "metadata": {},
   "outputs": [],
   "source": [
    "# Random Forest\n",
    "rf = RandomForestClassifier(bootstrap=True, \n",
    "                            class_weight=None, \n",
    "                            criterion='gini',\n",
    "                            min_samples_leaf=5,\n",
    "                            n_estimators=100,\n",
    "                            max_depth=15, \n",
    "                            random_state=123)"
   ]
  },
  {
   "cell_type": "code",
   "execution_count": 47,
   "metadata": {},
   "outputs": [
    {
     "data": {
      "text/plain": [
       "RandomForestClassifier(bootstrap=True, ccp_alpha=0.0, class_weight=None,\n",
       "                       criterion='gini', max_depth=15, max_features='auto',\n",
       "                       max_leaf_nodes=None, max_samples=None,\n",
       "                       min_impurity_decrease=0.0, min_impurity_split=None,\n",
       "                       min_samples_leaf=5, min_samples_split=2,\n",
       "                       min_weight_fraction_leaf=0.0, n_estimators=100,\n",
       "                       n_jobs=None, oob_score=False, random_state=123,\n",
       "                       verbose=0, warm_start=False)"
      ]
     },
     "execution_count": 47,
     "metadata": {},
     "output_type": "execute_result"
    }
   ],
   "source": [
    "rf.fit(X_train, y_train)"
   ]
  },
  {
   "cell_type": "code",
   "execution_count": 48,
   "metadata": {},
   "outputs": [
    {
     "data": {
      "text/plain": [
       "0.8658877317754635"
      ]
     },
     "execution_count": 48,
     "metadata": {},
     "output_type": "execute_result"
    }
   ],
   "source": [
    "rf.score(X_train, y_train)"
   ]
  },
  {
   "cell_type": "markdown",
   "metadata": {},
   "source": [
    "## Train Model 3\n",
    "Logistic Regression with all features, using default hyperparameters"
   ]
  },
  {
   "cell_type": "code",
   "execution_count": 49,
   "metadata": {},
   "outputs": [],
   "source": [
    "logit = LogisticRegression()"
   ]
  },
  {
   "cell_type": "code",
   "execution_count": 50,
   "metadata": {},
   "outputs": [
    {
     "data": {
      "text/plain": [
       "LogisticRegression(C=1.0, class_weight=None, dual=False, fit_intercept=True,\n",
       "                   intercept_scaling=1, l1_ratio=None, max_iter=100,\n",
       "                   multi_class='auto', n_jobs=None, penalty='l2',\n",
       "                   random_state=None, solver='lbfgs', tol=0.0001, verbose=0,\n",
       "                   warm_start=False)"
      ]
     },
     "execution_count": 50,
     "metadata": {},
     "output_type": "execute_result"
    }
   ],
   "source": [
    "logit.fit(X_train, y_train)"
   ]
  },
  {
   "cell_type": "code",
   "execution_count": 51,
   "metadata": {},
   "outputs": [
    {
     "data": {
      "text/plain": [
       "0.8034036068072136"
      ]
     },
     "execution_count": 51,
     "metadata": {},
     "output_type": "execute_result"
    }
   ],
   "source": [
    "logit.score(X_train, y_train)"
   ]
  },
  {
   "cell_type": "code",
   "execution_count": 53,
   "metadata": {},
   "outputs": [
    {
     "name": "stdout",
     "output_type": "stream",
     "text": [
      "Coefficient: \n",
      " [[-1.70851730e-01 -1.90412017e-01 -6.48364070e-01  2.52920075e-01\n",
      "  -3.14056308e-02  3.15223477e-02  3.98079938e-05 -2.61713590e-03\n",
      "   1.11242482e-01 -3.39174988e-01 -2.80901140e-02 -6.87826984e-02\n",
      "   3.34902885e-01  7.11647211e-02  3.77521755e-02 -2.62759953e-01\n",
      "  -3.26173320e-01 -2.19383827e-01 -5.60136208e-02 -5.18011501e-02\n",
      "  -1.43745490e-01]]\n",
      "Index(['payment_type_id', 'internet_service_type_id', 'contract_type_id',\n",
      "       'senior_citizen', 'months_tenure', 'monthly_charges', 'total_charges',\n",
      "       'years_tenure', 'mult_lines', 'online_sec', 'online_backup',\n",
      "       'device_protect', 'paperless', 'stream_movies', 'stream_tv', 'tech',\n",
      "       'phone', 'dependents', 'partner', 'Male', 'extra_serv'],\n",
      "      dtype='object')\n"
     ]
    }
   ],
   "source": [
    "print('Coefficient: \\n', logit.coef_)\n",
    "print(X_train.columns)"
   ]
  },
  {
   "cell_type": "code",
   "execution_count": 59,
   "metadata": {},
   "outputs": [
    {
     "data": {
      "text/plain": [
       "contract_type_id           -0.648364\n",
       "online_sec                 -0.339175\n",
       "phone                      -0.326173\n",
       "tech                       -0.262760\n",
       "dependents                 -0.219384\n",
       "internet_service_type_id   -0.190412\n",
       "payment_type_id            -0.170852\n",
       "extra_serv                 -0.143745\n",
       "device_protect             -0.068783\n",
       "partner                    -0.056014\n",
       "Male                       -0.051801\n",
       "months_tenure              -0.031406\n",
       "online_backup              -0.028090\n",
       "years_tenure               -0.002617\n",
       "total_charges               0.000040\n",
       "monthly_charges             0.031522\n",
       "stream_tv                   0.037752\n",
       "stream_movies               0.071165\n",
       "mult_lines                  0.111242\n",
       "senior_citizen              0.252920\n",
       "paperless                   0.334903\n",
       "dtype: float64"
      ]
     },
     "execution_count": 59,
     "metadata": {},
     "output_type": "execute_result"
    }
   ],
   "source": [
    "# see columns and coef sorted by value\n",
    "pd.Series(dict(zip(X_train.columns, logit.coef_[0]))).sort_values()"
   ]
  },
  {
   "cell_type": "markdown",
   "metadata": {},
   "source": [
    "## Train Model 4\n",
    "KNN with all features, K value 5"
   ]
  },
  {
   "cell_type": "code",
   "execution_count": 60,
   "metadata": {},
   "outputs": [],
   "source": [
    "knn = KNeighborsClassifier(n_neighbors=5, weights='uniform')"
   ]
  },
  {
   "cell_type": "code",
   "execution_count": 61,
   "metadata": {},
   "outputs": [
    {
     "data": {
      "text/plain": [
       "KNeighborsClassifier(algorithm='auto', leaf_size=30, metric='minkowski',\n",
       "                     metric_params=None, n_jobs=None, n_neighbors=5, p=2,\n",
       "                     weights='uniform')"
      ]
     },
     "execution_count": 61,
     "metadata": {},
     "output_type": "execute_result"
    }
   ],
   "source": [
    "knn.fit(X_train, y_train)"
   ]
  },
  {
   "cell_type": "code",
   "execution_count": 62,
   "metadata": {},
   "outputs": [
    {
     "data": {
      "text/plain": [
       "0.8348996697993396"
      ]
     },
     "execution_count": 62,
     "metadata": {},
     "output_type": "execute_result"
    }
   ],
   "source": [
    "knn.score(X_train, y_train)"
   ]
  },
  {
   "cell_type": "markdown",
   "metadata": {},
   "source": [
    "#### Train Models Summary\n",
    "###### Accuracy Score\n",
    "\n",
    "Model 1 Decission Tree = 88%   \n",
    "Model 2 Random Forest = 87%   \n",
    "Model 3 Logistic Regression = 80%   \n",
    "Model 4 K Nearest Neighbors = 83%   \n",
    "\n",
    "###### Based on this will run Model 1 and Model 2 on validate dataset"
   ]
  },
  {
   "cell_type": "markdown",
   "metadata": {},
   "source": [
    "## Validate Model 1"
   ]
  },
  {
   "cell_type": "code",
   "execution_count": 64,
   "metadata": {},
   "outputs": [],
   "source": [
    "clfv = DecisionTreeClassifier(max_depth=10, random_state=123)"
   ]
  },
  {
   "cell_type": "code",
   "execution_count": 79,
   "metadata": {},
   "outputs": [
    {
     "data": {
      "text/html": [
       "<div>\n",
       "<style scoped>\n",
       "    .dataframe tbody tr th:only-of-type {\n",
       "        vertical-align: middle;\n",
       "    }\n",
       "\n",
       "    .dataframe tbody tr th {\n",
       "        vertical-align: top;\n",
       "    }\n",
       "\n",
       "    .dataframe thead th {\n",
       "        text-align: right;\n",
       "    }\n",
       "</style>\n",
       "<table border=\"1\" class=\"dataframe\">\n",
       "  <thead>\n",
       "    <tr style=\"text-align: right;\">\n",
       "      <th></th>\n",
       "      <th>payment_type_id</th>\n",
       "      <th>internet_service_type_id</th>\n",
       "      <th>contract_type_id</th>\n",
       "      <th>senior_citizen</th>\n",
       "      <th>months_tenure</th>\n",
       "      <th>monthly_charges</th>\n",
       "      <th>total_charges</th>\n",
       "      <th>years_tenure</th>\n",
       "      <th>mult_lines</th>\n",
       "      <th>online_sec</th>\n",
       "      <th>...</th>\n",
       "      <th>device_protect</th>\n",
       "      <th>paperless</th>\n",
       "      <th>stream_movies</th>\n",
       "      <th>stream_tv</th>\n",
       "      <th>tech</th>\n",
       "      <th>phone</th>\n",
       "      <th>dependents</th>\n",
       "      <th>partner</th>\n",
       "      <th>Male</th>\n",
       "      <th>extra_serv</th>\n",
       "    </tr>\n",
       "  </thead>\n",
       "  <tbody>\n",
       "    <tr>\n",
       "      <th>879</th>\n",
       "      <td>3</td>\n",
       "      <td>1</td>\n",
       "      <td>1</td>\n",
       "      <td>0</td>\n",
       "      <td>10</td>\n",
       "      <td>62.25</td>\n",
       "      <td>612.95</td>\n",
       "      <td>0.833333</td>\n",
       "      <td>0</td>\n",
       "      <td>1</td>\n",
       "      <td>...</td>\n",
       "      <td>0</td>\n",
       "      <td>0</td>\n",
       "      <td>0</td>\n",
       "      <td>1</td>\n",
       "      <td>1</td>\n",
       "      <td>1</td>\n",
       "      <td>0</td>\n",
       "      <td>0</td>\n",
       "      <td>1</td>\n",
       "      <td>3</td>\n",
       "    </tr>\n",
       "    <tr>\n",
       "      <th>1513</th>\n",
       "      <td>2</td>\n",
       "      <td>1</td>\n",
       "      <td>2</td>\n",
       "      <td>0</td>\n",
       "      <td>10</td>\n",
       "      <td>64.90</td>\n",
       "      <td>685.55</td>\n",
       "      <td>0.833333</td>\n",
       "      <td>0</td>\n",
       "      <td>0</td>\n",
       "      <td>...</td>\n",
       "      <td>0</td>\n",
       "      <td>0</td>\n",
       "      <td>1</td>\n",
       "      <td>0</td>\n",
       "      <td>1</td>\n",
       "      <td>1</td>\n",
       "      <td>0</td>\n",
       "      <td>0</td>\n",
       "      <td>0</td>\n",
       "      <td>3</td>\n",
       "    </tr>\n",
       "    <tr>\n",
       "      <th>5228</th>\n",
       "      <td>4</td>\n",
       "      <td>2</td>\n",
       "      <td>3</td>\n",
       "      <td>0</td>\n",
       "      <td>67</td>\n",
       "      <td>94.10</td>\n",
       "      <td>6302.80</td>\n",
       "      <td>5.583333</td>\n",
       "      <td>1</td>\n",
       "      <td>0</td>\n",
       "      <td>...</td>\n",
       "      <td>0</td>\n",
       "      <td>0</td>\n",
       "      <td>0</td>\n",
       "      <td>1</td>\n",
       "      <td>1</td>\n",
       "      <td>1</td>\n",
       "      <td>1</td>\n",
       "      <td>1</td>\n",
       "      <td>0</td>\n",
       "      <td>4</td>\n",
       "    </tr>\n",
       "    <tr>\n",
       "      <th>3204</th>\n",
       "      <td>1</td>\n",
       "      <td>2</td>\n",
       "      <td>1</td>\n",
       "      <td>1</td>\n",
       "      <td>17</td>\n",
       "      <td>101.80</td>\n",
       "      <td>1752.45</td>\n",
       "      <td>1.416667</td>\n",
       "      <td>0</td>\n",
       "      <td>0</td>\n",
       "      <td>...</td>\n",
       "      <td>1</td>\n",
       "      <td>1</td>\n",
       "      <td>1</td>\n",
       "      <td>1</td>\n",
       "      <td>0</td>\n",
       "      <td>1</td>\n",
       "      <td>0</td>\n",
       "      <td>0</td>\n",
       "      <td>1</td>\n",
       "      <td>5</td>\n",
       "    </tr>\n",
       "    <tr>\n",
       "      <th>5415</th>\n",
       "      <td>3</td>\n",
       "      <td>2</td>\n",
       "      <td>3</td>\n",
       "      <td>0</td>\n",
       "      <td>68</td>\n",
       "      <td>89.95</td>\n",
       "      <td>5974.30</td>\n",
       "      <td>5.666667</td>\n",
       "      <td>1</td>\n",
       "      <td>0</td>\n",
       "      <td>...</td>\n",
       "      <td>1</td>\n",
       "      <td>1</td>\n",
       "      <td>0</td>\n",
       "      <td>1</td>\n",
       "      <td>0</td>\n",
       "      <td>1</td>\n",
       "      <td>0</td>\n",
       "      <td>1</td>\n",
       "      <td>0</td>\n",
       "      <td>4</td>\n",
       "    </tr>\n",
       "  </tbody>\n",
       "</table>\n",
       "<p>5 rows × 21 columns</p>\n",
       "</div>"
      ],
      "text/plain": [
       "      payment_type_id  internet_service_type_id  contract_type_id  \\\n",
       "879                 3                         1                 1   \n",
       "1513                2                         1                 2   \n",
       "5228                4                         2                 3   \n",
       "3204                1                         2                 1   \n",
       "5415                3                         2                 3   \n",
       "\n",
       "      senior_citizen  months_tenure  monthly_charges  total_charges  \\\n",
       "879                0             10            62.25         612.95   \n",
       "1513               0             10            64.90         685.55   \n",
       "5228               0             67            94.10        6302.80   \n",
       "3204               1             17           101.80        1752.45   \n",
       "5415               0             68            89.95        5974.30   \n",
       "\n",
       "      years_tenure  mult_lines  online_sec  ...  device_protect  paperless  \\\n",
       "879       0.833333           0           1  ...               0          0   \n",
       "1513      0.833333           0           0  ...               0          0   \n",
       "5228      5.583333           1           0  ...               0          0   \n",
       "3204      1.416667           0           0  ...               1          1   \n",
       "5415      5.666667           1           0  ...               1          1   \n",
       "\n",
       "      stream_movies  stream_tv  tech  phone  dependents  partner  Male  \\\n",
       "879               0          1     1      1           0        0     1   \n",
       "1513              1          0     1      1           0        0     0   \n",
       "5228              0          1     1      1           1        1     0   \n",
       "3204              1          1     0      1           0        0     1   \n",
       "5415              0          1     0      1           0        1     0   \n",
       "\n",
       "      extra_serv  \n",
       "879            3  \n",
       "1513           3  \n",
       "5228           4  \n",
       "3204           5  \n",
       "5415           4  \n",
       "\n",
       "[5 rows x 21 columns]"
      ]
     },
     "execution_count": 79,
     "metadata": {},
     "output_type": "execute_result"
    }
   ],
   "source": [
    "X_validate = validate.drop(['churn'],axis=1)\n",
    "y_validate = validate[['churn']]\n",
    "\n",
    "X_validate.head()"
   ]
  },
  {
   "cell_type": "code",
   "execution_count": 67,
   "metadata": {},
   "outputs": [
    {
     "data": {
      "text/plain": [
       "DecisionTreeClassifier(ccp_alpha=0.0, class_weight=None, criterion='gini',\n",
       "                       max_depth=10, max_features=None, max_leaf_nodes=None,\n",
       "                       min_impurity_decrease=0.0, min_impurity_split=None,\n",
       "                       min_samples_leaf=1, min_samples_split=2,\n",
       "                       min_weight_fraction_leaf=0.0, presort='deprecated',\n",
       "                       random_state=123, splitter='best')"
      ]
     },
     "execution_count": 67,
     "metadata": {},
     "output_type": "execute_result"
    }
   ],
   "source": [
    "clfv.fit(X_validate, y_validate)"
   ]
  },
  {
   "cell_type": "code",
   "execution_count": 70,
   "metadata": {},
   "outputs": [
    {
     "data": {
      "text/plain": [
       "0.7511848341232228"
      ]
     },
     "execution_count": 70,
     "metadata": {},
     "output_type": "execute_result"
    }
   ],
   "source": [
    "clf.score(X_validate, y_validate)"
   ]
  },
  {
   "cell_type": "markdown",
   "metadata": {},
   "source": [
    "## Validate Model 2"
   ]
  },
  {
   "cell_type": "code",
   "execution_count": 71,
   "metadata": {},
   "outputs": [],
   "source": [
    "rfv = RandomForestClassifier(bootstrap=True, \n",
    "                            class_weight=None, \n",
    "                            criterion='gini',\n",
    "                            min_samples_leaf=5,\n",
    "                            n_estimators=100,\n",
    "                            max_depth=15, \n",
    "                            random_state=123)"
   ]
  },
  {
   "cell_type": "code",
   "execution_count": 72,
   "metadata": {},
   "outputs": [
    {
     "data": {
      "text/plain": [
       "RandomForestClassifier(bootstrap=True, ccp_alpha=0.0, class_weight=None,\n",
       "                       criterion='gini', max_depth=15, max_features='auto',\n",
       "                       max_leaf_nodes=None, max_samples=None,\n",
       "                       min_impurity_decrease=0.0, min_impurity_split=None,\n",
       "                       min_samples_leaf=5, min_samples_split=2,\n",
       "                       min_weight_fraction_leaf=0.0, n_estimators=100,\n",
       "                       n_jobs=None, oob_score=False, random_state=123,\n",
       "                       verbose=0, warm_start=False)"
      ]
     },
     "execution_count": 72,
     "metadata": {},
     "output_type": "execute_result"
    }
   ],
   "source": [
    "rfv.fit(X_validate, y_validate)"
   ]
  },
  {
   "cell_type": "code",
   "execution_count": 73,
   "metadata": {},
   "outputs": [
    {
     "data": {
      "text/plain": [
       "0.8803317535545023"
      ]
     },
     "execution_count": 73,
     "metadata": {},
     "output_type": "execute_result"
    }
   ],
   "source": [
    "rfv.score(X_validate, y_validate)"
   ]
  },
  {
   "cell_type": "markdown",
   "metadata": {},
   "source": [
    "#### Validate Models Summary\n",
    "###### Accuracy Score\n",
    "\n",
    "Model 1 Decission Tree = 75% - this is a significant drop from 88% on the train dataset   \n",
    "Model 2 Random Forest = 88%   \n",
    "\n",
    "###### Based on this will run Model 2 only on test dataset"
   ]
  },
  {
   "cell_type": "markdown",
   "metadata": {},
   "source": [
    "## Test Model"
   ]
  },
  {
   "cell_type": "code",
   "execution_count": 74,
   "metadata": {},
   "outputs": [],
   "source": [
    "rft = RandomForestClassifier(bootstrap=True, \n",
    "                            class_weight=None, \n",
    "                            criterion='gini',\n",
    "                            min_samples_leaf=5,\n",
    "                            n_estimators=100,\n",
    "                            max_depth=15, \n",
    "                            random_state=123)"
   ]
  },
  {
   "cell_type": "code",
   "execution_count": 78,
   "metadata": {},
   "outputs": [
    {
     "data": {
      "text/html": [
       "<div>\n",
       "<style scoped>\n",
       "    .dataframe tbody tr th:only-of-type {\n",
       "        vertical-align: middle;\n",
       "    }\n",
       "\n",
       "    .dataframe tbody tr th {\n",
       "        vertical-align: top;\n",
       "    }\n",
       "\n",
       "    .dataframe thead th {\n",
       "        text-align: right;\n",
       "    }\n",
       "</style>\n",
       "<table border=\"1\" class=\"dataframe\">\n",
       "  <thead>\n",
       "    <tr style=\"text-align: right;\">\n",
       "      <th></th>\n",
       "      <th>payment_type_id</th>\n",
       "      <th>internet_service_type_id</th>\n",
       "      <th>contract_type_id</th>\n",
       "      <th>senior_citizen</th>\n",
       "      <th>months_tenure</th>\n",
       "      <th>monthly_charges</th>\n",
       "      <th>total_charges</th>\n",
       "      <th>years_tenure</th>\n",
       "      <th>mult_lines</th>\n",
       "      <th>online_sec</th>\n",
       "      <th>...</th>\n",
       "      <th>device_protect</th>\n",
       "      <th>paperless</th>\n",
       "      <th>stream_movies</th>\n",
       "      <th>stream_tv</th>\n",
       "      <th>tech</th>\n",
       "      <th>phone</th>\n",
       "      <th>dependents</th>\n",
       "      <th>partner</th>\n",
       "      <th>Male</th>\n",
       "      <th>extra_serv</th>\n",
       "    </tr>\n",
       "  </thead>\n",
       "  <tbody>\n",
       "    <tr>\n",
       "      <th>3374</th>\n",
       "      <td>3</td>\n",
       "      <td>2</td>\n",
       "      <td>1</td>\n",
       "      <td>0</td>\n",
       "      <td>60</td>\n",
       "      <td>74.35</td>\n",
       "      <td>4453.30</td>\n",
       "      <td>5.000000</td>\n",
       "      <td>1</td>\n",
       "      <td>0</td>\n",
       "      <td>...</td>\n",
       "      <td>0</td>\n",
       "      <td>0</td>\n",
       "      <td>0</td>\n",
       "      <td>0</td>\n",
       "      <td>0</td>\n",
       "      <td>1</td>\n",
       "      <td>1</td>\n",
       "      <td>1</td>\n",
       "      <td>1</td>\n",
       "      <td>1</td>\n",
       "    </tr>\n",
       "    <tr>\n",
       "      <th>6498</th>\n",
       "      <td>4</td>\n",
       "      <td>3</td>\n",
       "      <td>3</td>\n",
       "      <td>0</td>\n",
       "      <td>70</td>\n",
       "      <td>20.05</td>\n",
       "      <td>1360.25</td>\n",
       "      <td>5.833333</td>\n",
       "      <td>0</td>\n",
       "      <td>0</td>\n",
       "      <td>...</td>\n",
       "      <td>0</td>\n",
       "      <td>0</td>\n",
       "      <td>0</td>\n",
       "      <td>0</td>\n",
       "      <td>0</td>\n",
       "      <td>1</td>\n",
       "      <td>1</td>\n",
       "      <td>1</td>\n",
       "      <td>1</td>\n",
       "      <td>0</td>\n",
       "    </tr>\n",
       "    <tr>\n",
       "      <th>6366</th>\n",
       "      <td>3</td>\n",
       "      <td>3</td>\n",
       "      <td>2</td>\n",
       "      <td>0</td>\n",
       "      <td>17</td>\n",
       "      <td>19.90</td>\n",
       "      <td>329.75</td>\n",
       "      <td>1.416667</td>\n",
       "      <td>0</td>\n",
       "      <td>0</td>\n",
       "      <td>...</td>\n",
       "      <td>0</td>\n",
       "      <td>0</td>\n",
       "      <td>0</td>\n",
       "      <td>0</td>\n",
       "      <td>0</td>\n",
       "      <td>1</td>\n",
       "      <td>1</td>\n",
       "      <td>1</td>\n",
       "      <td>1</td>\n",
       "      <td>0</td>\n",
       "    </tr>\n",
       "    <tr>\n",
       "      <th>5666</th>\n",
       "      <td>4</td>\n",
       "      <td>3</td>\n",
       "      <td>1</td>\n",
       "      <td>0</td>\n",
       "      <td>1</td>\n",
       "      <td>20.75</td>\n",
       "      <td>20.75</td>\n",
       "      <td>0.083333</td>\n",
       "      <td>0</td>\n",
       "      <td>0</td>\n",
       "      <td>...</td>\n",
       "      <td>0</td>\n",
       "      <td>0</td>\n",
       "      <td>0</td>\n",
       "      <td>0</td>\n",
       "      <td>0</td>\n",
       "      <td>1</td>\n",
       "      <td>0</td>\n",
       "      <td>0</td>\n",
       "      <td>1</td>\n",
       "      <td>0</td>\n",
       "    </tr>\n",
       "    <tr>\n",
       "      <th>1253</th>\n",
       "      <td>4</td>\n",
       "      <td>1</td>\n",
       "      <td>2</td>\n",
       "      <td>0</td>\n",
       "      <td>18</td>\n",
       "      <td>54.40</td>\n",
       "      <td>957.10</td>\n",
       "      <td>1.500000</td>\n",
       "      <td>0</td>\n",
       "      <td>0</td>\n",
       "      <td>...</td>\n",
       "      <td>1</td>\n",
       "      <td>1</td>\n",
       "      <td>0</td>\n",
       "      <td>0</td>\n",
       "      <td>1</td>\n",
       "      <td>1</td>\n",
       "      <td>1</td>\n",
       "      <td>1</td>\n",
       "      <td>0</td>\n",
       "      <td>3</td>\n",
       "    </tr>\n",
       "  </tbody>\n",
       "</table>\n",
       "<p>5 rows × 21 columns</p>\n",
       "</div>"
      ],
      "text/plain": [
       "      payment_type_id  internet_service_type_id  contract_type_id  \\\n",
       "3374                3                         2                 1   \n",
       "6498                4                         3                 3   \n",
       "6366                3                         3                 2   \n",
       "5666                4                         3                 1   \n",
       "1253                4                         1                 2   \n",
       "\n",
       "      senior_citizen  months_tenure  monthly_charges  total_charges  \\\n",
       "3374               0             60            74.35        4453.30   \n",
       "6498               0             70            20.05        1360.25   \n",
       "6366               0             17            19.90         329.75   \n",
       "5666               0              1            20.75          20.75   \n",
       "1253               0             18            54.40         957.10   \n",
       "\n",
       "      years_tenure  mult_lines  online_sec  ...  device_protect  paperless  \\\n",
       "3374      5.000000           1           0  ...               0          0   \n",
       "6498      5.833333           0           0  ...               0          0   \n",
       "6366      1.416667           0           0  ...               0          0   \n",
       "5666      0.083333           0           0  ...               0          0   \n",
       "1253      1.500000           0           0  ...               1          1   \n",
       "\n",
       "      stream_movies  stream_tv  tech  phone  dependents  partner  Male  \\\n",
       "3374              0          0     0      1           1        1     1   \n",
       "6498              0          0     0      1           1        1     1   \n",
       "6366              0          0     0      1           1        1     1   \n",
       "5666              0          0     0      1           0        0     1   \n",
       "1253              0          0     1      1           1        1     0   \n",
       "\n",
       "      extra_serv  \n",
       "3374           1  \n",
       "6498           0  \n",
       "6366           0  \n",
       "5666           0  \n",
       "1253           3  \n",
       "\n",
       "[5 rows x 21 columns]"
      ]
     },
     "execution_count": 78,
     "metadata": {},
     "output_type": "execute_result"
    }
   ],
   "source": [
    "X_test = test.drop(['churn'],axis=1)\n",
    "y_test = test[['churn']]\n",
    "\n",
    "X_test.head()"
   ]
  },
  {
   "cell_type": "code",
   "execution_count": 80,
   "metadata": {},
   "outputs": [
    {
     "data": {
      "text/plain": [
       "RandomForestClassifier(bootstrap=True, ccp_alpha=0.0, class_weight=None,\n",
       "                       criterion='gini', max_depth=15, max_features='auto',\n",
       "                       max_leaf_nodes=None, max_samples=None,\n",
       "                       min_impurity_decrease=0.0, min_impurity_split=None,\n",
       "                       min_samples_leaf=5, min_samples_split=2,\n",
       "                       min_weight_fraction_leaf=0.0, n_estimators=100,\n",
       "                       n_jobs=None, oob_score=False, random_state=123,\n",
       "                       verbose=0, warm_start=False)"
      ]
     },
     "execution_count": 80,
     "metadata": {},
     "output_type": "execute_result"
    }
   ],
   "source": [
    "rft.fit(X_test, y_test)"
   ]
  },
  {
   "cell_type": "code",
   "execution_count": 81,
   "metadata": {},
   "outputs": [
    {
     "data": {
      "text/plain": [
       "0.8727789623312011"
      ]
     },
     "execution_count": 81,
     "metadata": {},
     "output_type": "execute_result"
    }
   ],
   "source": [
    "rft.score(X_test, y_test)"
   ]
  },
  {
   "cell_type": "markdown",
   "metadata": {},
   "source": [
    "#### Test Model Summary\n",
    "###### Accuracy Score\n",
    "  \n",
    "Model 2 Random Forest = 88%   \n",
    "\n",
    "###### Model 2 shows a consisent accuracy prediction between 87%-88% on all datasets.\n",
    "###### This is also a significant improvement from the 73% baseline accuracy."
   ]
  },
  {
   "cell_type": "markdown",
   "metadata": {},
   "source": [
    "# Delivery Stage\n",
    "\n",
    "### Model performance Summary\n",
    "Model 2 Random Forest with 5 min leaf samples and a max depth of 15 preforms the best on all datasets and does not appear to be overfit on any of them. Accuracy for this model is between 87% and 88% on all datasets."
   ]
  },
  {
   "cell_type": "code",
   "execution_count": null,
   "metadata": {},
   "outputs": [],
   "source": []
  }
 ],
 "metadata": {
  "kernelspec": {
   "display_name": "Python 3",
   "language": "python",
   "name": "python3"
  },
  "language_info": {
   "codemirror_mode": {
    "name": "ipython",
    "version": 3
   },
   "file_extension": ".py",
   "mimetype": "text/x-python",
   "name": "python",
   "nbconvert_exporter": "python",
   "pygments_lexer": "ipython3",
   "version": "3.7.6"
  }
 },
 "nbformat": 4,
 "nbformat_minor": 4
}
